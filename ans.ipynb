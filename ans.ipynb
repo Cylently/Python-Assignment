{
 "cells": [
  {
   "cell_type": "code",
   "execution_count": 1,
   "metadata": {},
   "outputs": [
    {
     "name": "stdout",
     "output_type": "stream",
     "text": [
      "5  is not a multiple of 5 and 7, and 10, 56.\n"
     ]
    }
   ],
   "source": [
    "# Ques 1\n",
    "#Python program to check whether the given integer is a multiple of 5 and 7, and 10, 56\n",
    "num= int(input(\"Enter number :\"))\n",
    "    \n",
    "if num % 5 == 0 and num % 7 == 0:\n",
    "    if num % 10 == 0 and num % 56 == 0:\n",
    "        print(num,\" is a multiple of 5, 7,10 and 56.\")\n",
    "        # temp=\"true\"\n",
    "    else:\n",
    "        print(num,\" is a multiple of 5 and 7.\")\n",
    "elif num % 10 == 0 and num % 56 == 0:\n",
    "    print(num,\" is a multiple of 10 and 56.\")\n",
    "else:\n",
    "    print(num,\" is not a multiple of 5 and 7, and 10, 56.\")\n",
    "\n",
    "# if temp==\"true\":\n",
    "#     pass\n",
    "# elif number % 10 == 0 and number % 56 == 0:\n",
    "#     print(number,\" is a multiple of 10 and 56.\")\n",
    "# else:\n",
    "#     print(number,\" is not a multiple of 5, 7, 10, and 56.\")"
   ]
  },
  {
   "cell_type": "code",
   "execution_count": null,
   "metadata": {},
   "outputs": [],
   "source": [
    "# Ques 2\n",
    "# Python program to find the factorial of a number using recursion.\n",
    "n = int(input(\"Enter a number: \"))\n",
    "\n",
    "fact = 1\n",
    "for i in range(1, n + 1):\n",
    "    fact *= i\n",
    "\n",
    "print(f\"The factorial of\",n, \"is\",fact)"
   ]
  },
  {
   "cell_type": "code",
   "execution_count": null,
   "metadata": {},
   "outputs": [],
   "source": [
    "# Ques 3\n",
    "# Consider the following example of a 3x4 matrix implemented as a list of 3 lists of length.\n",
    "matrix = [\n",
    "    [1, 2, 3, 4],\n",
    "    [5, 6, 7, 8],\n",
    "    [9, 10, 11, 12],\n",
    "    [13,14,15,16]\n",
    "]\n",
    "\n",
    "def ans(matrix):\n",
    "    print(\"[\")\n",
    "    for i in range(len(matrix[0])):\n",
    "        print([row[i] for row in matrix])\n",
    "    print(\"]\")\n",
    "\n",
    "ans(matrix)"
   ]
  },
  {
   "cell_type": "code",
   "execution_count": null,
   "metadata": {},
   "outputs": [],
   "source": [
    "# Ques 4\n",
    "# Find the even elements from an array. Respectively multiply this element in the array.\n",
    "arr = [1, 2, 3, 4, 5, 6,10]\n",
    "arr = list(map(lambda x: x*2, filter(lambda x: x%2 == 0, arr)))\n",
    "print(arr)"
   ]
  },
  {
   "cell_type": "code",
   "execution_count": null,
   "metadata": {},
   "outputs": [],
   "source": [
    "# Ques 5\n",
    "# Write a program.\n",
    "n = int(input(\"Enter the number of rows: \"))\n",
    "char = 65 \n",
    "for i in range(1, n + 1):\n",
    "    print(' ' * (n - i), end='')\n",
    "    \n",
    "    for j in range(i):\n",
    "        print(chr(char), end=' ')\n",
    "        char += 1\n",
    "        \n",
    "    print()"
   ]
  },
  {
   "cell_type": "code",
   "execution_count": null,
   "metadata": {},
   "outputs": [],
   "source": [
    "# Ques 6\n",
    "# Flatten a list using list comprehension and for loop.\n",
    "import math\n",
    "arr = [56.2, float('NaN'), 51.7, 55.3, 52.5, float('NaN'), 47.8]\n",
    "arr = [x for x in arr if not math.isnan(x)]\n",
    "print(arr)\n"
   ]
  },
  {
   "cell_type": "code",
   "execution_count": null,
   "metadata": {},
   "outputs": [],
   "source": [
    "# Ques  7\n",
    "#       A \n",
    "#      B C \n",
    "#     D E F \n",
    "#    G H I J \n",
    "#   K L M N O \n",
    "#  P Q R S T U \n",
    "# V W X Y Z [ \\\n",
    "        \n",
    "n = int(input(\"Enter the number of rows: \"))\n",
    "char = 65 \n",
    "for i in range(1, n + 1):\n",
    "    print(' ' * (n - i), end='')\n",
    "    \n",
    "    for j in range(i):\n",
    "        print(chr(char), end=' ')\n",
    "        char += 1\n",
    "        \n",
    "    print()"
   ]
  },
  {
   "cell_type": "code",
   "execution_count": null,
   "metadata": {},
   "outputs": [],
   "source": [
    "# Ques 8\n",
    "# Write a code to create a below pa:\n",
    "#     * \n",
    "#    * * \n",
    "#   * * * \n",
    "#  * * * * \n",
    "# * * * * * \n",
    "#  * * * * \n",
    "#   * * * \n",
    "#    * * \n",
    "    # * \n",
    "\n",
    "n = int(input(\"Enter the number of rows: \"))\n",
    "for i in range(1, n ):\n",
    "    for j in range(1, n - i + 1):\n",
    "        print(end=\" \")\n",
    "    for j in range(1, i + 1):\n",
    "        print(\"*\", end=\" \")\n",
    "    print()\n",
    "for i in range(n - 2, 0, -1):\n",
    "    for j in range(1, n - i + 1):\n",
    "        print(end=\" \")\n",
    "    for j in range(1, i + 1):\n",
    "        print(\"*\", end=\" \")\n",
    "    print()"
   ]
  },
  {
   "cell_type": "code",
   "execution_count": null,
   "metadata": {},
   "outputs": [],
   "source": [
    "# Ques 9\n",
    "# write program to create blow pattern : \n",
    "# # 5432112345\n",
    "# # 5432  2345\n",
    "# # 543    345\n",
    "# # 54      45\n",
    "# # 5        5\n",
    "\n",
    "n = int(input(\"Enter the number of rows: \"))\n",
    "for i in range(n, 0, -1):\n",
    "    for j in range(1, i + 1):\n",
    "        print(j, end=\"\")\n",
    "    for k in range(1, (n - i) * 2 + 1):\n",
    "        print(\" \", end=\"\")\n",
    "    for l in range(i, 0, -1):\n",
    "        print(l, end=\"\")\n",
    "    print()"
   ]
  },
  {
   "cell_type": "code",
   "execution_count": null,
   "metadata": {},
   "outputs": [],
   "source": [
    "# Ques 10\n",
    "# write program to create blow pattern : \n",
    "#    * \n",
    "#   * * \n",
    "#  *   * \n",
    "# *     * \n",
    "#  *   * \n",
    "#   * * \n",
    "#    * \n",
    "\n",
    "n = int(input(\"Enter the number of rows: \"))\n",
    "for i in range(1, n + 1):\n",
    "    for j in range(n - i):\n",
    "        print(\" \", end=\"\")\n",
    "    if i == 1:\n",
    "        print(\"*\")\n",
    "    else:\n",
    "        print(\"*\", end=\"\")\n",
    "        for j in range(2 * i - 3):\n",
    "            print(\" \", end=\"\")\n",
    "        print(\"*\")\n",
    "\n",
    "# Lower part\n",
    "for i in range(n-1, 0, -1):\n",
    "    for j in range(n - i):\n",
    "        print(\" \", end=\"\")\n",
    "    if i == 1:\n",
    "        print(\"*\")\n",
    "    else:\n",
    "        print(\"*\", end=\"\")\n",
    "        for j in range(2 * i - 3):\n",
    "            print(\" \", end=\"\")\n",
    "        print(\"*\")"
   ]
  },
  {
   "cell_type": "code",
   "execution_count": null,
   "metadata": {},
   "outputs": [],
   "source": [
    "# Ques 11\n",
    "# write program to create blow pattern : \n",
    "#     *   \n",
    "#   *   *   \n",
    "# *   *   *   \n",
    "#   *   *   \n",
    "    # *\n",
    "\n",
    "n= int(input(\"Enter the number of rows: \"))\n",
    "n=int(n/2)+1\n",
    "for i in range(1,n+1):\n",
    "    for j in range(1,n-i+1):\n",
    "        print(end=\"  \")\n",
    "    for j in range(1,i+1):\n",
    "        print(\"*\",end=\"   \")\n",
    "    print()\n",
    "for i in range(n-1,0,-1):\n",
    "    for j in range(1,n-i+1):\n",
    "        print(end=\"  \")\n",
    "    for j in range(1,i+1):\n",
    "        print(\"*\",end=\"   \")\n",
    "    print()"
   ]
  }
 ],
 "metadata": {
  "kernelspec": {
   "display_name": "my_env",
   "language": "python",
   "name": "python3"
  },
  "language_info": {
   "codemirror_mode": {
    "name": "ipython",
    "version": 3
   },
   "file_extension": ".py",
   "mimetype": "text/x-python",
   "name": "python",
   "nbconvert_exporter": "python",
   "pygments_lexer": "ipython3",
   "version": "3.7.17"
  },
  "orig_nbformat": 4
 },
 "nbformat": 4,
 "nbformat_minor": 2
}
